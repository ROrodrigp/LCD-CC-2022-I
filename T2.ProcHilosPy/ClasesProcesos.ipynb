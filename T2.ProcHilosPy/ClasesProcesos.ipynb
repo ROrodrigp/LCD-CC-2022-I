{
  "nbformat": 4,
  "nbformat_minor": 0,
  "metadata": {
    "colab": {
      "name": "ClasesProcesos.ipynb",
      "provenance": [],
      "authorship_tag": "ABX9TyPKfO+eb7Xh2wPL/u83fLFq",
      "include_colab_link": true
    },
    "kernelspec": {
      "name": "python3",
      "display_name": "Python 3"
    },
    "language_info": {
      "name": "python"
    }
  },
  "cells": [
    {
      "cell_type": "markdown",
      "metadata": {
        "id": "view-in-github",
        "colab_type": "text"
      },
      "source": [
        "<a href=\"https://colab.research.google.com/github/ROrodrigp/LCD-CC-2022-I/blob/main/ClasesProcesos.ipynb\" target=\"_parent\"><img src=\"https://colab.research.google.com/assets/colab-badge.svg\" alt=\"Open In Colab\"/></a>"
      ]
    },
    {
      "cell_type": "code",
      "metadata": {
        "colab": {
          "base_uri": "https://localhost:8080/"
        },
        "id": "Q0yCDmh-iUAw",
        "outputId": "165f5e0f-b771-4843-acd6-5fb18aaa1f33"
      },
      "source": [
        "import multiprocessing\n",
        "\n",
        "class MyProcess(multiprocessing.Process):\n",
        "    def __init__(self):\n",
        "        super(MyProcess, self).__init__()\n",
        "\n",
        "    def run(self):\n",
        "        print(\"Child Process PID: {}\".format(multiprocessing.current_process().pid))\n",
        "\n",
        "class MyProcess2(multiprocessing.Process):\n",
        "    def __init__(self):\n",
        "        super(MyProcess2, self).__init__()\n",
        "\n",
        "    def run(self):\n",
        "        print('Hola usuario, yo soy el proceso 2 con PID: {}'.format(multiprocessing.current_process().pid))\n",
        "\n",
        "class MyProcess3(multiprocessing.Process):\n",
        "    def __init__(self):\n",
        "        super(MyProcess3, self).__init__()\n",
        "\n",
        "    def run(self):\n",
        "        print('Soy el último proceso creado')\n",
        "\n",
        "def main():\n",
        "    print(\"Main Process PID: {}\".format(multiprocessing.current_process().pid))\n",
        "    myProcess = MyProcess()\n",
        "    myProcess2 = MyProcess2()\n",
        "    myProcess3 = MyProcess3()\n",
        "    myProcess.start()\n",
        "    myProcess2.start()\n",
        "    myProcess3.start()\n",
        "    myProcess.join()\n",
        "    myProcess2.join()\n",
        "    myProcess3.join()\n",
        "main()"
      ],
      "execution_count": null,
      "outputs": [
        {
          "output_type": "stream",
          "name": "stdout",
          "text": [
            "Main Process PID: 63\n",
            "Child Process PID: 217\n",
            "Soy el último proceso creado\n",
            "Hola usuario, yo soy el proceso 2 con PID: 218\n"
          ]
        }
      ]
    },
    {
      "cell_type": "code",
      "metadata": {
        "id": "ljRfuKhrnUfe"
      },
      "source": [
        ""
      ],
      "execution_count": null,
      "outputs": []
    }
  ]
}
